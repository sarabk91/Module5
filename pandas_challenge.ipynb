{
  "nbformat": 4,
  "nbformat_minor": 0,
  "metadata": {
    "colab": {
      "provenance": [],
      "authorship_tag": "ABX9TyNEF0+c4AR+Xt5Sobzc7oC/",
      "include_colab_link": true
    },
    "kernelspec": {
      "name": "python3",
      "display_name": "Python 3"
    },
    "language_info": {
      "name": "python"
    }
  },
  "cells": [
    {
      "cell_type": "markdown",
      "metadata": {
        "id": "view-in-github",
        "colab_type": "text"
      },
      "source": [
        "<a href=\"https://colab.research.google.com/github/sarabk91/Module5/blob/main/pandas_challenge.ipynb\" target=\"_parent\"><img src=\"https://colab.research.google.com/assets/colab-badge.svg\" alt=\"Open In Colab\"/></a>"
      ]
    },
    {
      "cell_type": "code",
      "source": [
        "import matplotlib.pyplot as plt\n",
        "import pandas as pd\n",
        "import scipy.stats as st"
      ],
      "metadata": {
        "id": "XU2Ms6WzPiHs"
      },
      "execution_count": 65,
      "outputs": []
    },
    {
      "cell_type": "code",
      "source": [
        "# Import mouse_Metadata and Study_results DataFrames\n",
        "mouse_metadata = pd.read_csv(\"Mouse_metadata.csv\")\n",
        "study_results = pd.read_csv(\"Study_results.csv\")"
      ],
      "metadata": {
        "id": "gT_DPnhBPiM4"
      },
      "execution_count": 66,
      "outputs": []
    },
    {
      "cell_type": "code",
      "source": [
        "mouse_metadata"
      ],
      "metadata": {
        "colab": {
          "base_uri": "https://localhost:8080/",
          "height": 423
        },
        "id": "tGi2-DacUFzU",
        "outputId": "c25675fc-513d-4d20-98c1-55f3e276489d"
      },
      "execution_count": 67,
      "outputs": [
        {
          "output_type": "execute_result",
          "data": {
            "text/plain": [
              "    Mouse ID Drug Regimen     Sex  Age_months  Weight (g)\n",
              "0       k403     Ramicane    Male          21          16\n",
              "1       s185    Capomulin  Female           3          17\n",
              "2       x401    Capomulin  Female          16          15\n",
              "3       m601    Capomulin    Male          22          17\n",
              "4       g791     Ramicane    Male          11          16\n",
              "..       ...          ...     ...         ...         ...\n",
              "244     z314     Stelasyn  Female          21          28\n",
              "245     z435     Propriva  Female          12          26\n",
              "246     z581    Infubinol  Female          24          25\n",
              "247     z795     Naftisol  Female          13          29\n",
              "248     z969     Naftisol    Male           9          30\n",
              "\n",
              "[249 rows x 5 columns]"
            ],
            "text/html": [
              "\n",
              "  <div id=\"df-072ad686-c4c3-4534-9de4-466ee602453d\">\n",
              "    <div class=\"colab-df-container\">\n",
              "      <div>\n",
              "<style scoped>\n",
              "    .dataframe tbody tr th:only-of-type {\n",
              "        vertical-align: middle;\n",
              "    }\n",
              "\n",
              "    .dataframe tbody tr th {\n",
              "        vertical-align: top;\n",
              "    }\n",
              "\n",
              "    .dataframe thead th {\n",
              "        text-align: right;\n",
              "    }\n",
              "</style>\n",
              "<table border=\"1\" class=\"dataframe\">\n",
              "  <thead>\n",
              "    <tr style=\"text-align: right;\">\n",
              "      <th></th>\n",
              "      <th>Mouse ID</th>\n",
              "      <th>Drug Regimen</th>\n",
              "      <th>Sex</th>\n",
              "      <th>Age_months</th>\n",
              "      <th>Weight (g)</th>\n",
              "    </tr>\n",
              "  </thead>\n",
              "  <tbody>\n",
              "    <tr>\n",
              "      <th>0</th>\n",
              "      <td>k403</td>\n",
              "      <td>Ramicane</td>\n",
              "      <td>Male</td>\n",
              "      <td>21</td>\n",
              "      <td>16</td>\n",
              "    </tr>\n",
              "    <tr>\n",
              "      <th>1</th>\n",
              "      <td>s185</td>\n",
              "      <td>Capomulin</td>\n",
              "      <td>Female</td>\n",
              "      <td>3</td>\n",
              "      <td>17</td>\n",
              "    </tr>\n",
              "    <tr>\n",
              "      <th>2</th>\n",
              "      <td>x401</td>\n",
              "      <td>Capomulin</td>\n",
              "      <td>Female</td>\n",
              "      <td>16</td>\n",
              "      <td>15</td>\n",
              "    </tr>\n",
              "    <tr>\n",
              "      <th>3</th>\n",
              "      <td>m601</td>\n",
              "      <td>Capomulin</td>\n",
              "      <td>Male</td>\n",
              "      <td>22</td>\n",
              "      <td>17</td>\n",
              "    </tr>\n",
              "    <tr>\n",
              "      <th>4</th>\n",
              "      <td>g791</td>\n",
              "      <td>Ramicane</td>\n",
              "      <td>Male</td>\n",
              "      <td>11</td>\n",
              "      <td>16</td>\n",
              "    </tr>\n",
              "    <tr>\n",
              "      <th>...</th>\n",
              "      <td>...</td>\n",
              "      <td>...</td>\n",
              "      <td>...</td>\n",
              "      <td>...</td>\n",
              "      <td>...</td>\n",
              "    </tr>\n",
              "    <tr>\n",
              "      <th>244</th>\n",
              "      <td>z314</td>\n",
              "      <td>Stelasyn</td>\n",
              "      <td>Female</td>\n",
              "      <td>21</td>\n",
              "      <td>28</td>\n",
              "    </tr>\n",
              "    <tr>\n",
              "      <th>245</th>\n",
              "      <td>z435</td>\n",
              "      <td>Propriva</td>\n",
              "      <td>Female</td>\n",
              "      <td>12</td>\n",
              "      <td>26</td>\n",
              "    </tr>\n",
              "    <tr>\n",
              "      <th>246</th>\n",
              "      <td>z581</td>\n",
              "      <td>Infubinol</td>\n",
              "      <td>Female</td>\n",
              "      <td>24</td>\n",
              "      <td>25</td>\n",
              "    </tr>\n",
              "    <tr>\n",
              "      <th>247</th>\n",
              "      <td>z795</td>\n",
              "      <td>Naftisol</td>\n",
              "      <td>Female</td>\n",
              "      <td>13</td>\n",
              "      <td>29</td>\n",
              "    </tr>\n",
              "    <tr>\n",
              "      <th>248</th>\n",
              "      <td>z969</td>\n",
              "      <td>Naftisol</td>\n",
              "      <td>Male</td>\n",
              "      <td>9</td>\n",
              "      <td>30</td>\n",
              "    </tr>\n",
              "  </tbody>\n",
              "</table>\n",
              "<p>249 rows × 5 columns</p>\n",
              "</div>\n",
              "      <button class=\"colab-df-convert\" onclick=\"convertToInteractive('df-072ad686-c4c3-4534-9de4-466ee602453d')\"\n",
              "              title=\"Convert this dataframe to an interactive table.\"\n",
              "              style=\"display:none;\">\n",
              "        \n",
              "  <svg xmlns=\"http://www.w3.org/2000/svg\" height=\"24px\"viewBox=\"0 0 24 24\"\n",
              "       width=\"24px\">\n",
              "    <path d=\"M0 0h24v24H0V0z\" fill=\"none\"/>\n",
              "    <path d=\"M18.56 5.44l.94 2.06.94-2.06 2.06-.94-2.06-.94-.94-2.06-.94 2.06-2.06.94zm-11 1L8.5 8.5l.94-2.06 2.06-.94-2.06-.94L8.5 2.5l-.94 2.06-2.06.94zm10 10l.94 2.06.94-2.06 2.06-.94-2.06-.94-.94-2.06-.94 2.06-2.06.94z\"/><path d=\"M17.41 7.96l-1.37-1.37c-.4-.4-.92-.59-1.43-.59-.52 0-1.04.2-1.43.59L10.3 9.45l-7.72 7.72c-.78.78-.78 2.05 0 2.83L4 21.41c.39.39.9.59 1.41.59.51 0 1.02-.2 1.41-.59l7.78-7.78 2.81-2.81c.8-.78.8-2.07 0-2.86zM5.41 20L4 18.59l7.72-7.72 1.47 1.35L5.41 20z\"/>\n",
              "  </svg>\n",
              "      </button>\n",
              "      \n",
              "  <style>\n",
              "    .colab-df-container {\n",
              "      display:flex;\n",
              "      flex-wrap:wrap;\n",
              "      gap: 12px;\n",
              "    }\n",
              "\n",
              "    .colab-df-convert {\n",
              "      background-color: #E8F0FE;\n",
              "      border: none;\n",
              "      border-radius: 50%;\n",
              "      cursor: pointer;\n",
              "      display: none;\n",
              "      fill: #1967D2;\n",
              "      height: 32px;\n",
              "      padding: 0 0 0 0;\n",
              "      width: 32px;\n",
              "    }\n",
              "\n",
              "    .colab-df-convert:hover {\n",
              "      background-color: #E2EBFA;\n",
              "      box-shadow: 0px 1px 2px rgba(60, 64, 67, 0.3), 0px 1px 3px 1px rgba(60, 64, 67, 0.15);\n",
              "      fill: #174EA6;\n",
              "    }\n",
              "\n",
              "    [theme=dark] .colab-df-convert {\n",
              "      background-color: #3B4455;\n",
              "      fill: #D2E3FC;\n",
              "    }\n",
              "\n",
              "    [theme=dark] .colab-df-convert:hover {\n",
              "      background-color: #434B5C;\n",
              "      box-shadow: 0px 1px 3px 1px rgba(0, 0, 0, 0.15);\n",
              "      filter: drop-shadow(0px 1px 2px rgba(0, 0, 0, 0.3));\n",
              "      fill: #FFFFFF;\n",
              "    }\n",
              "  </style>\n",
              "\n",
              "      <script>\n",
              "        const buttonEl =\n",
              "          document.querySelector('#df-072ad686-c4c3-4534-9de4-466ee602453d button.colab-df-convert');\n",
              "        buttonEl.style.display =\n",
              "          google.colab.kernel.accessAllowed ? 'block' : 'none';\n",
              "\n",
              "        async function convertToInteractive(key) {\n",
              "          const element = document.querySelector('#df-072ad686-c4c3-4534-9de4-466ee602453d');\n",
              "          const dataTable =\n",
              "            await google.colab.kernel.invokeFunction('convertToInteractive',\n",
              "                                                     [key], {});\n",
              "          if (!dataTable) return;\n",
              "\n",
              "          const docLinkHtml = 'Like what you see? Visit the ' +\n",
              "            '<a target=\"_blank\" href=https://colab.research.google.com/notebooks/data_table.ipynb>data table notebook</a>'\n",
              "            + ' to learn more about interactive tables.';\n",
              "          element.innerHTML = '';\n",
              "          dataTable['output_type'] = 'display_data';\n",
              "          await google.colab.output.renderOutput(dataTable, element);\n",
              "          const docLink = document.createElement('div');\n",
              "          docLink.innerHTML = docLinkHtml;\n",
              "          element.appendChild(docLink);\n",
              "        }\n",
              "      </script>\n",
              "    </div>\n",
              "  </div>\n",
              "  "
            ]
          },
          "metadata": {},
          "execution_count": 67
        }
      ]
    },
    {
      "cell_type": "code",
      "source": [
        "study_results"
      ],
      "metadata": {
        "colab": {
          "base_uri": "https://localhost:8080/",
          "height": 423
        },
        "id": "_0vC_3riUG2V",
        "outputId": "223b2ab9-55ce-43ff-89aa-9f380b9ab55e"
      },
      "execution_count": 68,
      "outputs": [
        {
          "output_type": "execute_result",
          "data": {
            "text/plain": [
              "     Mouse ID  Timepoint  Tumor Volume (mm3)  Metastatic Sites\n",
              "0        b128          0           45.000000                 0\n",
              "1        f932          0           45.000000                 0\n",
              "2        g107          0           45.000000                 0\n",
              "3        a457          0           45.000000                 0\n",
              "4        c819          0           45.000000                 0\n",
              "...       ...        ...                 ...               ...\n",
              "1888     r944         45           41.581521                 2\n",
              "1889     u364         45           31.023923                 3\n",
              "1890     p438         45           61.433892                 1\n",
              "1891     x773         45           58.634971                 4\n",
              "1892     b879         45           72.555239                 2\n",
              "\n",
              "[1893 rows x 4 columns]"
            ],
            "text/html": [
              "\n",
              "  <div id=\"df-f8d1a803-01f5-445f-9ab2-c459a92444ac\">\n",
              "    <div class=\"colab-df-container\">\n",
              "      <div>\n",
              "<style scoped>\n",
              "    .dataframe tbody tr th:only-of-type {\n",
              "        vertical-align: middle;\n",
              "    }\n",
              "\n",
              "    .dataframe tbody tr th {\n",
              "        vertical-align: top;\n",
              "    }\n",
              "\n",
              "    .dataframe thead th {\n",
              "        text-align: right;\n",
              "    }\n",
              "</style>\n",
              "<table border=\"1\" class=\"dataframe\">\n",
              "  <thead>\n",
              "    <tr style=\"text-align: right;\">\n",
              "      <th></th>\n",
              "      <th>Mouse ID</th>\n",
              "      <th>Timepoint</th>\n",
              "      <th>Tumor Volume (mm3)</th>\n",
              "      <th>Metastatic Sites</th>\n",
              "    </tr>\n",
              "  </thead>\n",
              "  <tbody>\n",
              "    <tr>\n",
              "      <th>0</th>\n",
              "      <td>b128</td>\n",
              "      <td>0</td>\n",
              "      <td>45.000000</td>\n",
              "      <td>0</td>\n",
              "    </tr>\n",
              "    <tr>\n",
              "      <th>1</th>\n",
              "      <td>f932</td>\n",
              "      <td>0</td>\n",
              "      <td>45.000000</td>\n",
              "      <td>0</td>\n",
              "    </tr>\n",
              "    <tr>\n",
              "      <th>2</th>\n",
              "      <td>g107</td>\n",
              "      <td>0</td>\n",
              "      <td>45.000000</td>\n",
              "      <td>0</td>\n",
              "    </tr>\n",
              "    <tr>\n",
              "      <th>3</th>\n",
              "      <td>a457</td>\n",
              "      <td>0</td>\n",
              "      <td>45.000000</td>\n",
              "      <td>0</td>\n",
              "    </tr>\n",
              "    <tr>\n",
              "      <th>4</th>\n",
              "      <td>c819</td>\n",
              "      <td>0</td>\n",
              "      <td>45.000000</td>\n",
              "      <td>0</td>\n",
              "    </tr>\n",
              "    <tr>\n",
              "      <th>...</th>\n",
              "      <td>...</td>\n",
              "      <td>...</td>\n",
              "      <td>...</td>\n",
              "      <td>...</td>\n",
              "    </tr>\n",
              "    <tr>\n",
              "      <th>1888</th>\n",
              "      <td>r944</td>\n",
              "      <td>45</td>\n",
              "      <td>41.581521</td>\n",
              "      <td>2</td>\n",
              "    </tr>\n",
              "    <tr>\n",
              "      <th>1889</th>\n",
              "      <td>u364</td>\n",
              "      <td>45</td>\n",
              "      <td>31.023923</td>\n",
              "      <td>3</td>\n",
              "    </tr>\n",
              "    <tr>\n",
              "      <th>1890</th>\n",
              "      <td>p438</td>\n",
              "      <td>45</td>\n",
              "      <td>61.433892</td>\n",
              "      <td>1</td>\n",
              "    </tr>\n",
              "    <tr>\n",
              "      <th>1891</th>\n",
              "      <td>x773</td>\n",
              "      <td>45</td>\n",
              "      <td>58.634971</td>\n",
              "      <td>4</td>\n",
              "    </tr>\n",
              "    <tr>\n",
              "      <th>1892</th>\n",
              "      <td>b879</td>\n",
              "      <td>45</td>\n",
              "      <td>72.555239</td>\n",
              "      <td>2</td>\n",
              "    </tr>\n",
              "  </tbody>\n",
              "</table>\n",
              "<p>1893 rows × 4 columns</p>\n",
              "</div>\n",
              "      <button class=\"colab-df-convert\" onclick=\"convertToInteractive('df-f8d1a803-01f5-445f-9ab2-c459a92444ac')\"\n",
              "              title=\"Convert this dataframe to an interactive table.\"\n",
              "              style=\"display:none;\">\n",
              "        \n",
              "  <svg xmlns=\"http://www.w3.org/2000/svg\" height=\"24px\"viewBox=\"0 0 24 24\"\n",
              "       width=\"24px\">\n",
              "    <path d=\"M0 0h24v24H0V0z\" fill=\"none\"/>\n",
              "    <path d=\"M18.56 5.44l.94 2.06.94-2.06 2.06-.94-2.06-.94-.94-2.06-.94 2.06-2.06.94zm-11 1L8.5 8.5l.94-2.06 2.06-.94-2.06-.94L8.5 2.5l-.94 2.06-2.06.94zm10 10l.94 2.06.94-2.06 2.06-.94-2.06-.94-.94-2.06-.94 2.06-2.06.94z\"/><path d=\"M17.41 7.96l-1.37-1.37c-.4-.4-.92-.59-1.43-.59-.52 0-1.04.2-1.43.59L10.3 9.45l-7.72 7.72c-.78.78-.78 2.05 0 2.83L4 21.41c.39.39.9.59 1.41.59.51 0 1.02-.2 1.41-.59l7.78-7.78 2.81-2.81c.8-.78.8-2.07 0-2.86zM5.41 20L4 18.59l7.72-7.72 1.47 1.35L5.41 20z\"/>\n",
              "  </svg>\n",
              "      </button>\n",
              "      \n",
              "  <style>\n",
              "    .colab-df-container {\n",
              "      display:flex;\n",
              "      flex-wrap:wrap;\n",
              "      gap: 12px;\n",
              "    }\n",
              "\n",
              "    .colab-df-convert {\n",
              "      background-color: #E8F0FE;\n",
              "      border: none;\n",
              "      border-radius: 50%;\n",
              "      cursor: pointer;\n",
              "      display: none;\n",
              "      fill: #1967D2;\n",
              "      height: 32px;\n",
              "      padding: 0 0 0 0;\n",
              "      width: 32px;\n",
              "    }\n",
              "\n",
              "    .colab-df-convert:hover {\n",
              "      background-color: #E2EBFA;\n",
              "      box-shadow: 0px 1px 2px rgba(60, 64, 67, 0.3), 0px 1px 3px 1px rgba(60, 64, 67, 0.15);\n",
              "      fill: #174EA6;\n",
              "    }\n",
              "\n",
              "    [theme=dark] .colab-df-convert {\n",
              "      background-color: #3B4455;\n",
              "      fill: #D2E3FC;\n",
              "    }\n",
              "\n",
              "    [theme=dark] .colab-df-convert:hover {\n",
              "      background-color: #434B5C;\n",
              "      box-shadow: 0px 1px 3px 1px rgba(0, 0, 0, 0.15);\n",
              "      filter: drop-shadow(0px 1px 2px rgba(0, 0, 0, 0.3));\n",
              "      fill: #FFFFFF;\n",
              "    }\n",
              "  </style>\n",
              "\n",
              "      <script>\n",
              "        const buttonEl =\n",
              "          document.querySelector('#df-f8d1a803-01f5-445f-9ab2-c459a92444ac button.colab-df-convert');\n",
              "        buttonEl.style.display =\n",
              "          google.colab.kernel.accessAllowed ? 'block' : 'none';\n",
              "\n",
              "        async function convertToInteractive(key) {\n",
              "          const element = document.querySelector('#df-f8d1a803-01f5-445f-9ab2-c459a92444ac');\n",
              "          const dataTable =\n",
              "            await google.colab.kernel.invokeFunction('convertToInteractive',\n",
              "                                                     [key], {});\n",
              "          if (!dataTable) return;\n",
              "\n",
              "          const docLinkHtml = 'Like what you see? Visit the ' +\n",
              "            '<a target=\"_blank\" href=https://colab.research.google.com/notebooks/data_table.ipynb>data table notebook</a>'\n",
              "            + ' to learn more about interactive tables.';\n",
              "          element.innerHTML = '';\n",
              "          dataTable['output_type'] = 'display_data';\n",
              "          await google.colab.output.renderOutput(dataTable, element);\n",
              "          const docLink = document.createElement('div');\n",
              "          docLink.innerHTML = docLinkHtml;\n",
              "          element.appendChild(docLink);\n",
              "        }\n",
              "      </script>\n",
              "    </div>\n",
              "  </div>\n",
              "  "
            ]
          },
          "metadata": {},
          "execution_count": 68
        }
      ]
    },
    {
      "cell_type": "code",
      "source": [
        "# Merge mouse_metadata and study_results into a single DataFrame\n",
        "merged_data = pd.merge(mouse_metadata, study_results, on=\"Mouse ID\")\n",
        "merged_data"
      ],
      "metadata": {
        "colab": {
          "base_uri": "https://localhost:8080/",
          "height": 423
        },
        "id": "SEKXEdAQUF1V",
        "outputId": "a05914b8-6d2d-4a9f-86cf-36763d782d5d"
      },
      "execution_count": 69,
      "outputs": [
        {
          "output_type": "execute_result",
          "data": {
            "text/plain": [
              "     Mouse ID Drug Regimen   Sex  Age_months  Weight (g)  Timepoint  \\\n",
              "0        k403     Ramicane  Male          21          16          0   \n",
              "1        k403     Ramicane  Male          21          16          5   \n",
              "2        k403     Ramicane  Male          21          16         10   \n",
              "3        k403     Ramicane  Male          21          16         15   \n",
              "4        k403     Ramicane  Male          21          16         20   \n",
              "...       ...          ...   ...         ...         ...        ...   \n",
              "1888     z969     Naftisol  Male           9          30         25   \n",
              "1889     z969     Naftisol  Male           9          30         30   \n",
              "1890     z969     Naftisol  Male           9          30         35   \n",
              "1891     z969     Naftisol  Male           9          30         40   \n",
              "1892     z969     Naftisol  Male           9          30         45   \n",
              "\n",
              "      Tumor Volume (mm3)  Metastatic Sites  \n",
              "0              45.000000                 0  \n",
              "1              38.825898                 0  \n",
              "2              35.014271                 1  \n",
              "3              34.223992                 1  \n",
              "4              32.997729                 1  \n",
              "...                  ...               ...  \n",
              "1888           63.145652                 2  \n",
              "1889           65.841013                 3  \n",
              "1890           69.176246                 4  \n",
              "1891           70.314904                 4  \n",
              "1892           73.867845                 4  \n",
              "\n",
              "[1893 rows x 8 columns]"
            ],
            "text/html": [
              "\n",
              "  <div id=\"df-1c7ad487-2a63-426c-9dcb-85a4e9f469a7\">\n",
              "    <div class=\"colab-df-container\">\n",
              "      <div>\n",
              "<style scoped>\n",
              "    .dataframe tbody tr th:only-of-type {\n",
              "        vertical-align: middle;\n",
              "    }\n",
              "\n",
              "    .dataframe tbody tr th {\n",
              "        vertical-align: top;\n",
              "    }\n",
              "\n",
              "    .dataframe thead th {\n",
              "        text-align: right;\n",
              "    }\n",
              "</style>\n",
              "<table border=\"1\" class=\"dataframe\">\n",
              "  <thead>\n",
              "    <tr style=\"text-align: right;\">\n",
              "      <th></th>\n",
              "      <th>Mouse ID</th>\n",
              "      <th>Drug Regimen</th>\n",
              "      <th>Sex</th>\n",
              "      <th>Age_months</th>\n",
              "      <th>Weight (g)</th>\n",
              "      <th>Timepoint</th>\n",
              "      <th>Tumor Volume (mm3)</th>\n",
              "      <th>Metastatic Sites</th>\n",
              "    </tr>\n",
              "  </thead>\n",
              "  <tbody>\n",
              "    <tr>\n",
              "      <th>0</th>\n",
              "      <td>k403</td>\n",
              "      <td>Ramicane</td>\n",
              "      <td>Male</td>\n",
              "      <td>21</td>\n",
              "      <td>16</td>\n",
              "      <td>0</td>\n",
              "      <td>45.000000</td>\n",
              "      <td>0</td>\n",
              "    </tr>\n",
              "    <tr>\n",
              "      <th>1</th>\n",
              "      <td>k403</td>\n",
              "      <td>Ramicane</td>\n",
              "      <td>Male</td>\n",
              "      <td>21</td>\n",
              "      <td>16</td>\n",
              "      <td>5</td>\n",
              "      <td>38.825898</td>\n",
              "      <td>0</td>\n",
              "    </tr>\n",
              "    <tr>\n",
              "      <th>2</th>\n",
              "      <td>k403</td>\n",
              "      <td>Ramicane</td>\n",
              "      <td>Male</td>\n",
              "      <td>21</td>\n",
              "      <td>16</td>\n",
              "      <td>10</td>\n",
              "      <td>35.014271</td>\n",
              "      <td>1</td>\n",
              "    </tr>\n",
              "    <tr>\n",
              "      <th>3</th>\n",
              "      <td>k403</td>\n",
              "      <td>Ramicane</td>\n",
              "      <td>Male</td>\n",
              "      <td>21</td>\n",
              "      <td>16</td>\n",
              "      <td>15</td>\n",
              "      <td>34.223992</td>\n",
              "      <td>1</td>\n",
              "    </tr>\n",
              "    <tr>\n",
              "      <th>4</th>\n",
              "      <td>k403</td>\n",
              "      <td>Ramicane</td>\n",
              "      <td>Male</td>\n",
              "      <td>21</td>\n",
              "      <td>16</td>\n",
              "      <td>20</td>\n",
              "      <td>32.997729</td>\n",
              "      <td>1</td>\n",
              "    </tr>\n",
              "    <tr>\n",
              "      <th>...</th>\n",
              "      <td>...</td>\n",
              "      <td>...</td>\n",
              "      <td>...</td>\n",
              "      <td>...</td>\n",
              "      <td>...</td>\n",
              "      <td>...</td>\n",
              "      <td>...</td>\n",
              "      <td>...</td>\n",
              "    </tr>\n",
              "    <tr>\n",
              "      <th>1888</th>\n",
              "      <td>z969</td>\n",
              "      <td>Naftisol</td>\n",
              "      <td>Male</td>\n",
              "      <td>9</td>\n",
              "      <td>30</td>\n",
              "      <td>25</td>\n",
              "      <td>63.145652</td>\n",
              "      <td>2</td>\n",
              "    </tr>\n",
              "    <tr>\n",
              "      <th>1889</th>\n",
              "      <td>z969</td>\n",
              "      <td>Naftisol</td>\n",
              "      <td>Male</td>\n",
              "      <td>9</td>\n",
              "      <td>30</td>\n",
              "      <td>30</td>\n",
              "      <td>65.841013</td>\n",
              "      <td>3</td>\n",
              "    </tr>\n",
              "    <tr>\n",
              "      <th>1890</th>\n",
              "      <td>z969</td>\n",
              "      <td>Naftisol</td>\n",
              "      <td>Male</td>\n",
              "      <td>9</td>\n",
              "      <td>30</td>\n",
              "      <td>35</td>\n",
              "      <td>69.176246</td>\n",
              "      <td>4</td>\n",
              "    </tr>\n",
              "    <tr>\n",
              "      <th>1891</th>\n",
              "      <td>z969</td>\n",
              "      <td>Naftisol</td>\n",
              "      <td>Male</td>\n",
              "      <td>9</td>\n",
              "      <td>30</td>\n",
              "      <td>40</td>\n",
              "      <td>70.314904</td>\n",
              "      <td>4</td>\n",
              "    </tr>\n",
              "    <tr>\n",
              "      <th>1892</th>\n",
              "      <td>z969</td>\n",
              "      <td>Naftisol</td>\n",
              "      <td>Male</td>\n",
              "      <td>9</td>\n",
              "      <td>30</td>\n",
              "      <td>45</td>\n",
              "      <td>73.867845</td>\n",
              "      <td>4</td>\n",
              "    </tr>\n",
              "  </tbody>\n",
              "</table>\n",
              "<p>1893 rows × 8 columns</p>\n",
              "</div>\n",
              "      <button class=\"colab-df-convert\" onclick=\"convertToInteractive('df-1c7ad487-2a63-426c-9dcb-85a4e9f469a7')\"\n",
              "              title=\"Convert this dataframe to an interactive table.\"\n",
              "              style=\"display:none;\">\n",
              "        \n",
              "  <svg xmlns=\"http://www.w3.org/2000/svg\" height=\"24px\"viewBox=\"0 0 24 24\"\n",
              "       width=\"24px\">\n",
              "    <path d=\"M0 0h24v24H0V0z\" fill=\"none\"/>\n",
              "    <path d=\"M18.56 5.44l.94 2.06.94-2.06 2.06-.94-2.06-.94-.94-2.06-.94 2.06-2.06.94zm-11 1L8.5 8.5l.94-2.06 2.06-.94-2.06-.94L8.5 2.5l-.94 2.06-2.06.94zm10 10l.94 2.06.94-2.06 2.06-.94-2.06-.94-.94-2.06-.94 2.06-2.06.94z\"/><path d=\"M17.41 7.96l-1.37-1.37c-.4-.4-.92-.59-1.43-.59-.52 0-1.04.2-1.43.59L10.3 9.45l-7.72 7.72c-.78.78-.78 2.05 0 2.83L4 21.41c.39.39.9.59 1.41.59.51 0 1.02-.2 1.41-.59l7.78-7.78 2.81-2.81c.8-.78.8-2.07 0-2.86zM5.41 20L4 18.59l7.72-7.72 1.47 1.35L5.41 20z\"/>\n",
              "  </svg>\n",
              "      </button>\n",
              "      \n",
              "  <style>\n",
              "    .colab-df-container {\n",
              "      display:flex;\n",
              "      flex-wrap:wrap;\n",
              "      gap: 12px;\n",
              "    }\n",
              "\n",
              "    .colab-df-convert {\n",
              "      background-color: #E8F0FE;\n",
              "      border: none;\n",
              "      border-radius: 50%;\n",
              "      cursor: pointer;\n",
              "      display: none;\n",
              "      fill: #1967D2;\n",
              "      height: 32px;\n",
              "      padding: 0 0 0 0;\n",
              "      width: 32px;\n",
              "    }\n",
              "\n",
              "    .colab-df-convert:hover {\n",
              "      background-color: #E2EBFA;\n",
              "      box-shadow: 0px 1px 2px rgba(60, 64, 67, 0.3), 0px 1px 3px 1px rgba(60, 64, 67, 0.15);\n",
              "      fill: #174EA6;\n",
              "    }\n",
              "\n",
              "    [theme=dark] .colab-df-convert {\n",
              "      background-color: #3B4455;\n",
              "      fill: #D2E3FC;\n",
              "    }\n",
              "\n",
              "    [theme=dark] .colab-df-convert:hover {\n",
              "      background-color: #434B5C;\n",
              "      box-shadow: 0px 1px 3px 1px rgba(0, 0, 0, 0.15);\n",
              "      filter: drop-shadow(0px 1px 2px rgba(0, 0, 0, 0.3));\n",
              "      fill: #FFFFFF;\n",
              "    }\n",
              "  </style>\n",
              "\n",
              "      <script>\n",
              "        const buttonEl =\n",
              "          document.querySelector('#df-1c7ad487-2a63-426c-9dcb-85a4e9f469a7 button.colab-df-convert');\n",
              "        buttonEl.style.display =\n",
              "          google.colab.kernel.accessAllowed ? 'block' : 'none';\n",
              "\n",
              "        async function convertToInteractive(key) {\n",
              "          const element = document.querySelector('#df-1c7ad487-2a63-426c-9dcb-85a4e9f469a7');\n",
              "          const dataTable =\n",
              "            await google.colab.kernel.invokeFunction('convertToInteractive',\n",
              "                                                     [key], {});\n",
              "          if (!dataTable) return;\n",
              "\n",
              "          const docLinkHtml = 'Like what you see? Visit the ' +\n",
              "            '<a target=\"_blank\" href=https://colab.research.google.com/notebooks/data_table.ipynb>data table notebook</a>'\n",
              "            + ' to learn more about interactive tables.';\n",
              "          element.innerHTML = '';\n",
              "          dataTable['output_type'] = 'display_data';\n",
              "          await google.colab.output.renderOutput(dataTable, element);\n",
              "          const docLink = document.createElement('div');\n",
              "          docLink.innerHTML = docLinkHtml;\n",
              "          element.appendChild(docLink);\n",
              "        }\n",
              "      </script>\n",
              "    </div>\n",
              "  </div>\n",
              "  "
            ]
          },
          "metadata": {},
          "execution_count": 69
        }
      ]
    },
    {
      "cell_type": "code",
      "source": [
        "# Combine the data into a single DataFrame\n",
        "unique_mice = merged_data[\"Mouse ID\"].nunique()\n",
        "print(\"Number of unique mice IDs:\", unique_mice)"
      ],
      "metadata": {
        "id": "-ccdj5_qPiPQ",
        "colab": {
          "base_uri": "https://localhost:8080/"
        },
        "outputId": "f6f790c1-b90f-48b7-ca37-44b5bdb168e1"
      },
      "execution_count": 70,
      "outputs": [
        {
          "output_type": "stream",
          "name": "stdout",
          "text": [
            "Number of unique mice IDs: 249\n"
          ]
        }
      ]
    },
    {
      "cell_type": "code",
      "source": [
        "# Display the data table for preview\n",
        "duplicate_mice = merged_data[merged_data.duplicated(subset=[\"Mouse ID\", \"Timepoint\"])]\n",
        "print(\"Mouse ID with duplicate time points:\")\n",
        "duplicate_mice['Mouse ID']"
      ],
      "metadata": {
        "id": "Y8xTd2RdPiRw",
        "colab": {
          "base_uri": "https://localhost:8080/"
        },
        "outputId": "f26efd6d-faa1-4a07-f92d-cd5328298c18"
      },
      "execution_count": 71,
      "outputs": [
        {
          "output_type": "stream",
          "name": "stdout",
          "text": [
            "Mouse ID with duplicate time points:\n"
          ]
        },
        {
          "output_type": "execute_result",
          "data": {
            "text/plain": [
              "909    g989\n",
              "911    g989\n",
              "913    g989\n",
              "915    g989\n",
              "917    g989\n",
              "Name: Mouse ID, dtype: object"
            ]
          },
          "metadata": {},
          "execution_count": 71
        }
      ]
    },
    {
      "cell_type": "code",
      "source": [
        "cleaned_data = merged_data.drop_duplicates(subset=[\"Mouse ID\", \"Timepoint\"])\n",
        "cleaned_data"
      ],
      "metadata": {
        "id": "4-SRekirPiUS",
        "colab": {
          "base_uri": "https://localhost:8080/",
          "height": 423
        },
        "outputId": "e4ef9bad-fa01-49c8-fdc1-7751c873fd47"
      },
      "execution_count": 72,
      "outputs": [
        {
          "output_type": "execute_result",
          "data": {
            "text/plain": [
              "     Mouse ID Drug Regimen   Sex  Age_months  Weight (g)  Timepoint  \\\n",
              "0        k403     Ramicane  Male          21          16          0   \n",
              "1        k403     Ramicane  Male          21          16          5   \n",
              "2        k403     Ramicane  Male          21          16         10   \n",
              "3        k403     Ramicane  Male          21          16         15   \n",
              "4        k403     Ramicane  Male          21          16         20   \n",
              "...       ...          ...   ...         ...         ...        ...   \n",
              "1888     z969     Naftisol  Male           9          30         25   \n",
              "1889     z969     Naftisol  Male           9          30         30   \n",
              "1890     z969     Naftisol  Male           9          30         35   \n",
              "1891     z969     Naftisol  Male           9          30         40   \n",
              "1892     z969     Naftisol  Male           9          30         45   \n",
              "\n",
              "      Tumor Volume (mm3)  Metastatic Sites  \n",
              "0              45.000000                 0  \n",
              "1              38.825898                 0  \n",
              "2              35.014271                 1  \n",
              "3              34.223992                 1  \n",
              "4              32.997729                 1  \n",
              "...                  ...               ...  \n",
              "1888           63.145652                 2  \n",
              "1889           65.841013                 3  \n",
              "1890           69.176246                 4  \n",
              "1891           70.314904                 4  \n",
              "1892           73.867845                 4  \n",
              "\n",
              "[1888 rows x 8 columns]"
            ],
            "text/html": [
              "\n",
              "  <div id=\"df-3c1067db-cdce-42c8-b317-e1fa1e63055b\">\n",
              "    <div class=\"colab-df-container\">\n",
              "      <div>\n",
              "<style scoped>\n",
              "    .dataframe tbody tr th:only-of-type {\n",
              "        vertical-align: middle;\n",
              "    }\n",
              "\n",
              "    .dataframe tbody tr th {\n",
              "        vertical-align: top;\n",
              "    }\n",
              "\n",
              "    .dataframe thead th {\n",
              "        text-align: right;\n",
              "    }\n",
              "</style>\n",
              "<table border=\"1\" class=\"dataframe\">\n",
              "  <thead>\n",
              "    <tr style=\"text-align: right;\">\n",
              "      <th></th>\n",
              "      <th>Mouse ID</th>\n",
              "      <th>Drug Regimen</th>\n",
              "      <th>Sex</th>\n",
              "      <th>Age_months</th>\n",
              "      <th>Weight (g)</th>\n",
              "      <th>Timepoint</th>\n",
              "      <th>Tumor Volume (mm3)</th>\n",
              "      <th>Metastatic Sites</th>\n",
              "    </tr>\n",
              "  </thead>\n",
              "  <tbody>\n",
              "    <tr>\n",
              "      <th>0</th>\n",
              "      <td>k403</td>\n",
              "      <td>Ramicane</td>\n",
              "      <td>Male</td>\n",
              "      <td>21</td>\n",
              "      <td>16</td>\n",
              "      <td>0</td>\n",
              "      <td>45.000000</td>\n",
              "      <td>0</td>\n",
              "    </tr>\n",
              "    <tr>\n",
              "      <th>1</th>\n",
              "      <td>k403</td>\n",
              "      <td>Ramicane</td>\n",
              "      <td>Male</td>\n",
              "      <td>21</td>\n",
              "      <td>16</td>\n",
              "      <td>5</td>\n",
              "      <td>38.825898</td>\n",
              "      <td>0</td>\n",
              "    </tr>\n",
              "    <tr>\n",
              "      <th>2</th>\n",
              "      <td>k403</td>\n",
              "      <td>Ramicane</td>\n",
              "      <td>Male</td>\n",
              "      <td>21</td>\n",
              "      <td>16</td>\n",
              "      <td>10</td>\n",
              "      <td>35.014271</td>\n",
              "      <td>1</td>\n",
              "    </tr>\n",
              "    <tr>\n",
              "      <th>3</th>\n",
              "      <td>k403</td>\n",
              "      <td>Ramicane</td>\n",
              "      <td>Male</td>\n",
              "      <td>21</td>\n",
              "      <td>16</td>\n",
              "      <td>15</td>\n",
              "      <td>34.223992</td>\n",
              "      <td>1</td>\n",
              "    </tr>\n",
              "    <tr>\n",
              "      <th>4</th>\n",
              "      <td>k403</td>\n",
              "      <td>Ramicane</td>\n",
              "      <td>Male</td>\n",
              "      <td>21</td>\n",
              "      <td>16</td>\n",
              "      <td>20</td>\n",
              "      <td>32.997729</td>\n",
              "      <td>1</td>\n",
              "    </tr>\n",
              "    <tr>\n",
              "      <th>...</th>\n",
              "      <td>...</td>\n",
              "      <td>...</td>\n",
              "      <td>...</td>\n",
              "      <td>...</td>\n",
              "      <td>...</td>\n",
              "      <td>...</td>\n",
              "      <td>...</td>\n",
              "      <td>...</td>\n",
              "    </tr>\n",
              "    <tr>\n",
              "      <th>1888</th>\n",
              "      <td>z969</td>\n",
              "      <td>Naftisol</td>\n",
              "      <td>Male</td>\n",
              "      <td>9</td>\n",
              "      <td>30</td>\n",
              "      <td>25</td>\n",
              "      <td>63.145652</td>\n",
              "      <td>2</td>\n",
              "    </tr>\n",
              "    <tr>\n",
              "      <th>1889</th>\n",
              "      <td>z969</td>\n",
              "      <td>Naftisol</td>\n",
              "      <td>Male</td>\n",
              "      <td>9</td>\n",
              "      <td>30</td>\n",
              "      <td>30</td>\n",
              "      <td>65.841013</td>\n",
              "      <td>3</td>\n",
              "    </tr>\n",
              "    <tr>\n",
              "      <th>1890</th>\n",
              "      <td>z969</td>\n",
              "      <td>Naftisol</td>\n",
              "      <td>Male</td>\n",
              "      <td>9</td>\n",
              "      <td>30</td>\n",
              "      <td>35</td>\n",
              "      <td>69.176246</td>\n",
              "      <td>4</td>\n",
              "    </tr>\n",
              "    <tr>\n",
              "      <th>1891</th>\n",
              "      <td>z969</td>\n",
              "      <td>Naftisol</td>\n",
              "      <td>Male</td>\n",
              "      <td>9</td>\n",
              "      <td>30</td>\n",
              "      <td>40</td>\n",
              "      <td>70.314904</td>\n",
              "      <td>4</td>\n",
              "    </tr>\n",
              "    <tr>\n",
              "      <th>1892</th>\n",
              "      <td>z969</td>\n",
              "      <td>Naftisol</td>\n",
              "      <td>Male</td>\n",
              "      <td>9</td>\n",
              "      <td>30</td>\n",
              "      <td>45</td>\n",
              "      <td>73.867845</td>\n",
              "      <td>4</td>\n",
              "    </tr>\n",
              "  </tbody>\n",
              "</table>\n",
              "<p>1888 rows × 8 columns</p>\n",
              "</div>\n",
              "      <button class=\"colab-df-convert\" onclick=\"convertToInteractive('df-3c1067db-cdce-42c8-b317-e1fa1e63055b')\"\n",
              "              title=\"Convert this dataframe to an interactive table.\"\n",
              "              style=\"display:none;\">\n",
              "        \n",
              "  <svg xmlns=\"http://www.w3.org/2000/svg\" height=\"24px\"viewBox=\"0 0 24 24\"\n",
              "       width=\"24px\">\n",
              "    <path d=\"M0 0h24v24H0V0z\" fill=\"none\"/>\n",
              "    <path d=\"M18.56 5.44l.94 2.06.94-2.06 2.06-.94-2.06-.94-.94-2.06-.94 2.06-2.06.94zm-11 1L8.5 8.5l.94-2.06 2.06-.94-2.06-.94L8.5 2.5l-.94 2.06-2.06.94zm10 10l.94 2.06.94-2.06 2.06-.94-2.06-.94-.94-2.06-.94 2.06-2.06.94z\"/><path d=\"M17.41 7.96l-1.37-1.37c-.4-.4-.92-.59-1.43-.59-.52 0-1.04.2-1.43.59L10.3 9.45l-7.72 7.72c-.78.78-.78 2.05 0 2.83L4 21.41c.39.39.9.59 1.41.59.51 0 1.02-.2 1.41-.59l7.78-7.78 2.81-2.81c.8-.78.8-2.07 0-2.86zM5.41 20L4 18.59l7.72-7.72 1.47 1.35L5.41 20z\"/>\n",
              "  </svg>\n",
              "      </button>\n",
              "      \n",
              "  <style>\n",
              "    .colab-df-container {\n",
              "      display:flex;\n",
              "      flex-wrap:wrap;\n",
              "      gap: 12px;\n",
              "    }\n",
              "\n",
              "    .colab-df-convert {\n",
              "      background-color: #E8F0FE;\n",
              "      border: none;\n",
              "      border-radius: 50%;\n",
              "      cursor: pointer;\n",
              "      display: none;\n",
              "      fill: #1967D2;\n",
              "      height: 32px;\n",
              "      padding: 0 0 0 0;\n",
              "      width: 32px;\n",
              "    }\n",
              "\n",
              "    .colab-df-convert:hover {\n",
              "      background-color: #E2EBFA;\n",
              "      box-shadow: 0px 1px 2px rgba(60, 64, 67, 0.3), 0px 1px 3px 1px rgba(60, 64, 67, 0.15);\n",
              "      fill: #174EA6;\n",
              "    }\n",
              "\n",
              "    [theme=dark] .colab-df-convert {\n",
              "      background-color: #3B4455;\n",
              "      fill: #D2E3FC;\n",
              "    }\n",
              "\n",
              "    [theme=dark] .colab-df-convert:hover {\n",
              "      background-color: #434B5C;\n",
              "      box-shadow: 0px 1px 3px 1px rgba(0, 0, 0, 0.15);\n",
              "      filter: drop-shadow(0px 1px 2px rgba(0, 0, 0, 0.3));\n",
              "      fill: #FFFFFF;\n",
              "    }\n",
              "  </style>\n",
              "\n",
              "      <script>\n",
              "        const buttonEl =\n",
              "          document.querySelector('#df-3c1067db-cdce-42c8-b317-e1fa1e63055b button.colab-df-convert');\n",
              "        buttonEl.style.display =\n",
              "          google.colab.kernel.accessAllowed ? 'block' : 'none';\n",
              "\n",
              "        async function convertToInteractive(key) {\n",
              "          const element = document.querySelector('#df-3c1067db-cdce-42c8-b317-e1fa1e63055b');\n",
              "          const dataTable =\n",
              "            await google.colab.kernel.invokeFunction('convertToInteractive',\n",
              "                                                     [key], {});\n",
              "          if (!dataTable) return;\n",
              "\n",
              "          const docLinkHtml = 'Like what you see? Visit the ' +\n",
              "            '<a target=\"_blank\" href=https://colab.research.google.com/notebooks/data_table.ipynb>data table notebook</a>'\n",
              "            + ' to learn more about interactive tables.';\n",
              "          element.innerHTML = '';\n",
              "          dataTable['output_type'] = 'display_data';\n",
              "          await google.colab.output.renderOutput(dataTable, element);\n",
              "          const docLink = document.createElement('div');\n",
              "          docLink.innerHTML = docLinkHtml;\n",
              "          element.appendChild(docLink);\n",
              "        }\n",
              "      </script>\n",
              "    </div>\n",
              "  </div>\n",
              "  "
            ]
          },
          "metadata": {},
          "execution_count": 72
        }
      ]
    },
    {
      "cell_type": "code",
      "source": [
        "# Checking the number of mice.\n",
        "updated_unique_mice = cleaned_data[\"Mouse ID\"].nunique()\n",
        "print(\"Updated number of unique mice IDs:\", updated_unique_mice)"
      ],
      "metadata": {
        "id": "ZzvGSwUDPiW0",
        "colab": {
          "base_uri": "https://localhost:8080/"
        },
        "outputId": "ffd3c64a-12a1-4697-d5a1-41c5b22d4804"
      },
      "execution_count": 73,
      "outputs": [
        {
          "output_type": "stream",
          "name": "stdout",
          "text": [
            "Updated number of unique mice IDs: 249\n"
          ]
        }
      ]
    },
    {
      "cell_type": "code",
      "source": [
        "# Group the data by drug regimen\n",
        "grouped_data = cleaned_data.groupby(\"Drug Regimen\")\n",
        "\n",
        "# Calculate the required statistics for tumor volume\n",
        "summary_statistics = grouped_data[\"Tumor Volume (mm3)\"].agg([\"mean\", \"median\", \"var\", \"std\", \"sem\"])\n",
        "\n",
        "# Rename the columns\n",
        "summary_statistics = summary_statistics.rename(columns={\n",
        "    \"mean\": \"Mean\",\n",
        "    \"median\": \"Median\",\n",
        "    \"var\": \"Variance\",\n",
        "    \"std\": \"Standard Deviation\",\n",
        "    \"sem\": \"SEM\"\n",
        "})\n",
        "\n",
        "# Display the summary statistics\n",
        "print(\"Summary Statistics:\")\n",
        "print(\"----------------------------------------------------------------------------------\")\n",
        "print(summary_statistics)"
      ],
      "metadata": {
        "id": "_bkWPIHLPiak",
        "colab": {
          "base_uri": "https://localhost:8080/"
        },
        "outputId": "df8b5a3b-dc46-4e0d-bc4f-7cbecad43f62"
      },
      "execution_count": 74,
      "outputs": [
        {
          "output_type": "stream",
          "name": "stdout",
          "text": [
            "Summary Statistics:\n",
            "----------------------------------------------------------------------------------\n",
            "                   Mean     Median   Variance  Standard Deviation       SEM\n",
            "Drug Regimen                                                               \n",
            "Capomulin     40.675741  41.557809  24.947764            4.994774  0.329346\n",
            "Ceftamin      52.591172  51.776157  39.290177            6.268188  0.469821\n",
            "Infubinol     52.884795  51.820584  43.128684            6.567243  0.492236\n",
            "Ketapril      55.235638  53.698743  68.553577            8.279709  0.603860\n",
            "Naftisol      54.331565  52.509285  66.173479            8.134708  0.596466\n",
            "Placebo       54.033581  52.288934  61.168083            7.821003  0.581331\n",
            "Propriva      52.393463  50.909965  43.138803            6.568014  0.525862\n",
            "Ramicane      40.216745  40.673236  23.486704            4.846308  0.320955\n",
            "Stelasyn      54.233149  52.431737  59.450562            7.710419  0.573111\n",
            "Zoniferol     53.236507  51.818479  48.533355            6.966589  0.516398\n"
          ]
        }
      ]
    },
    {
      "cell_type": "code",
      "source": [
        "summary_statistics"
      ],
      "metadata": {
        "id": "hgaLJcGpPieI",
        "colab": {
          "base_uri": "https://localhost:8080/",
          "height": 394
        },
        "outputId": "aa3842fe-5d41-470a-cb52-393a10da16c1"
      },
      "execution_count": 75,
      "outputs": [
        {
          "output_type": "execute_result",
          "data": {
            "text/plain": [
              "                   Mean     Median   Variance  Standard Deviation       SEM\n",
              "Drug Regimen                                                               \n",
              "Capomulin     40.675741  41.557809  24.947764            4.994774  0.329346\n",
              "Ceftamin      52.591172  51.776157  39.290177            6.268188  0.469821\n",
              "Infubinol     52.884795  51.820584  43.128684            6.567243  0.492236\n",
              "Ketapril      55.235638  53.698743  68.553577            8.279709  0.603860\n",
              "Naftisol      54.331565  52.509285  66.173479            8.134708  0.596466\n",
              "Placebo       54.033581  52.288934  61.168083            7.821003  0.581331\n",
              "Propriva      52.393463  50.909965  43.138803            6.568014  0.525862\n",
              "Ramicane      40.216745  40.673236  23.486704            4.846308  0.320955\n",
              "Stelasyn      54.233149  52.431737  59.450562            7.710419  0.573111\n",
              "Zoniferol     53.236507  51.818479  48.533355            6.966589  0.516398"
            ],
            "text/html": [
              "\n",
              "  <div id=\"df-1598759a-1da9-4fdb-bfc8-2e1b43953b7d\">\n",
              "    <div class=\"colab-df-container\">\n",
              "      <div>\n",
              "<style scoped>\n",
              "    .dataframe tbody tr th:only-of-type {\n",
              "        vertical-align: middle;\n",
              "    }\n",
              "\n",
              "    .dataframe tbody tr th {\n",
              "        vertical-align: top;\n",
              "    }\n",
              "\n",
              "    .dataframe thead th {\n",
              "        text-align: right;\n",
              "    }\n",
              "</style>\n",
              "<table border=\"1\" class=\"dataframe\">\n",
              "  <thead>\n",
              "    <tr style=\"text-align: right;\">\n",
              "      <th></th>\n",
              "      <th>Mean</th>\n",
              "      <th>Median</th>\n",
              "      <th>Variance</th>\n",
              "      <th>Standard Deviation</th>\n",
              "      <th>SEM</th>\n",
              "    </tr>\n",
              "    <tr>\n",
              "      <th>Drug Regimen</th>\n",
              "      <th></th>\n",
              "      <th></th>\n",
              "      <th></th>\n",
              "      <th></th>\n",
              "      <th></th>\n",
              "    </tr>\n",
              "  </thead>\n",
              "  <tbody>\n",
              "    <tr>\n",
              "      <th>Capomulin</th>\n",
              "      <td>40.675741</td>\n",
              "      <td>41.557809</td>\n",
              "      <td>24.947764</td>\n",
              "      <td>4.994774</td>\n",
              "      <td>0.329346</td>\n",
              "    </tr>\n",
              "    <tr>\n",
              "      <th>Ceftamin</th>\n",
              "      <td>52.591172</td>\n",
              "      <td>51.776157</td>\n",
              "      <td>39.290177</td>\n",
              "      <td>6.268188</td>\n",
              "      <td>0.469821</td>\n",
              "    </tr>\n",
              "    <tr>\n",
              "      <th>Infubinol</th>\n",
              "      <td>52.884795</td>\n",
              "      <td>51.820584</td>\n",
              "      <td>43.128684</td>\n",
              "      <td>6.567243</td>\n",
              "      <td>0.492236</td>\n",
              "    </tr>\n",
              "    <tr>\n",
              "      <th>Ketapril</th>\n",
              "      <td>55.235638</td>\n",
              "      <td>53.698743</td>\n",
              "      <td>68.553577</td>\n",
              "      <td>8.279709</td>\n",
              "      <td>0.603860</td>\n",
              "    </tr>\n",
              "    <tr>\n",
              "      <th>Naftisol</th>\n",
              "      <td>54.331565</td>\n",
              "      <td>52.509285</td>\n",
              "      <td>66.173479</td>\n",
              "      <td>8.134708</td>\n",
              "      <td>0.596466</td>\n",
              "    </tr>\n",
              "    <tr>\n",
              "      <th>Placebo</th>\n",
              "      <td>54.033581</td>\n",
              "      <td>52.288934</td>\n",
              "      <td>61.168083</td>\n",
              "      <td>7.821003</td>\n",
              "      <td>0.581331</td>\n",
              "    </tr>\n",
              "    <tr>\n",
              "      <th>Propriva</th>\n",
              "      <td>52.393463</td>\n",
              "      <td>50.909965</td>\n",
              "      <td>43.138803</td>\n",
              "      <td>6.568014</td>\n",
              "      <td>0.525862</td>\n",
              "    </tr>\n",
              "    <tr>\n",
              "      <th>Ramicane</th>\n",
              "      <td>40.216745</td>\n",
              "      <td>40.673236</td>\n",
              "      <td>23.486704</td>\n",
              "      <td>4.846308</td>\n",
              "      <td>0.320955</td>\n",
              "    </tr>\n",
              "    <tr>\n",
              "      <th>Stelasyn</th>\n",
              "      <td>54.233149</td>\n",
              "      <td>52.431737</td>\n",
              "      <td>59.450562</td>\n",
              "      <td>7.710419</td>\n",
              "      <td>0.573111</td>\n",
              "    </tr>\n",
              "    <tr>\n",
              "      <th>Zoniferol</th>\n",
              "      <td>53.236507</td>\n",
              "      <td>51.818479</td>\n",
              "      <td>48.533355</td>\n",
              "      <td>6.966589</td>\n",
              "      <td>0.516398</td>\n",
              "    </tr>\n",
              "  </tbody>\n",
              "</table>\n",
              "</div>\n",
              "      <button class=\"colab-df-convert\" onclick=\"convertToInteractive('df-1598759a-1da9-4fdb-bfc8-2e1b43953b7d')\"\n",
              "              title=\"Convert this dataframe to an interactive table.\"\n",
              "              style=\"display:none;\">\n",
              "        \n",
              "  <svg xmlns=\"http://www.w3.org/2000/svg\" height=\"24px\"viewBox=\"0 0 24 24\"\n",
              "       width=\"24px\">\n",
              "    <path d=\"M0 0h24v24H0V0z\" fill=\"none\"/>\n",
              "    <path d=\"M18.56 5.44l.94 2.06.94-2.06 2.06-.94-2.06-.94-.94-2.06-.94 2.06-2.06.94zm-11 1L8.5 8.5l.94-2.06 2.06-.94-2.06-.94L8.5 2.5l-.94 2.06-2.06.94zm10 10l.94 2.06.94-2.06 2.06-.94-2.06-.94-.94-2.06-.94 2.06-2.06.94z\"/><path d=\"M17.41 7.96l-1.37-1.37c-.4-.4-.92-.59-1.43-.59-.52 0-1.04.2-1.43.59L10.3 9.45l-7.72 7.72c-.78.78-.78 2.05 0 2.83L4 21.41c.39.39.9.59 1.41.59.51 0 1.02-.2 1.41-.59l7.78-7.78 2.81-2.81c.8-.78.8-2.07 0-2.86zM5.41 20L4 18.59l7.72-7.72 1.47 1.35L5.41 20z\"/>\n",
              "  </svg>\n",
              "      </button>\n",
              "      \n",
              "  <style>\n",
              "    .colab-df-container {\n",
              "      display:flex;\n",
              "      flex-wrap:wrap;\n",
              "      gap: 12px;\n",
              "    }\n",
              "\n",
              "    .colab-df-convert {\n",
              "      background-color: #E8F0FE;\n",
              "      border: none;\n",
              "      border-radius: 50%;\n",
              "      cursor: pointer;\n",
              "      display: none;\n",
              "      fill: #1967D2;\n",
              "      height: 32px;\n",
              "      padding: 0 0 0 0;\n",
              "      width: 32px;\n",
              "    }\n",
              "\n",
              "    .colab-df-convert:hover {\n",
              "      background-color: #E2EBFA;\n",
              "      box-shadow: 0px 1px 2px rgba(60, 64, 67, 0.3), 0px 1px 3px 1px rgba(60, 64, 67, 0.15);\n",
              "      fill: #174EA6;\n",
              "    }\n",
              "\n",
              "    [theme=dark] .colab-df-convert {\n",
              "      background-color: #3B4455;\n",
              "      fill: #D2E3FC;\n",
              "    }\n",
              "\n",
              "    [theme=dark] .colab-df-convert:hover {\n",
              "      background-color: #434B5C;\n",
              "      box-shadow: 0px 1px 3px 1px rgba(0, 0, 0, 0.15);\n",
              "      filter: drop-shadow(0px 1px 2px rgba(0, 0, 0, 0.3));\n",
              "      fill: #FFFFFF;\n",
              "    }\n",
              "  </style>\n",
              "\n",
              "      <script>\n",
              "        const buttonEl =\n",
              "          document.querySelector('#df-1598759a-1da9-4fdb-bfc8-2e1b43953b7d button.colab-df-convert');\n",
              "        buttonEl.style.display =\n",
              "          google.colab.kernel.accessAllowed ? 'block' : 'none';\n",
              "\n",
              "        async function convertToInteractive(key) {\n",
              "          const element = document.querySelector('#df-1598759a-1da9-4fdb-bfc8-2e1b43953b7d');\n",
              "          const dataTable =\n",
              "            await google.colab.kernel.invokeFunction('convertToInteractive',\n",
              "                                                     [key], {});\n",
              "          if (!dataTable) return;\n",
              "\n",
              "          const docLinkHtml = 'Like what you see? Visit the ' +\n",
              "            '<a target=\"_blank\" href=https://colab.research.google.com/notebooks/data_table.ipynb>data table notebook</a>'\n",
              "            + ' to learn more about interactive tables.';\n",
              "          element.innerHTML = '';\n",
              "          dataTable['output_type'] = 'display_data';\n",
              "          await google.colab.output.renderOutput(dataTable, element);\n",
              "          const docLink = document.createElement('div');\n",
              "          docLink.innerHTML = docLinkHtml;\n",
              "          element.appendChild(docLink);\n",
              "        }\n",
              "      </script>\n",
              "    </div>\n",
              "  </div>\n",
              "  "
            ]
          },
          "metadata": {},
          "execution_count": 75
        }
      ]
    },
    {
      "cell_type": "code",
      "source": [],
      "metadata": {
        "id": "uMfDQ0SMYKue"
      },
      "execution_count": 75,
      "outputs": []
    },
    {
      "cell_type": "markdown",
      "source": [
        "# **Bar and Pie Charts**"
      ],
      "metadata": {
        "id": "GDho-FxkZkTW"
      }
    },
    {
      "cell_type": "code",
      "source": [
        "# Generate a bar plot showing the total number of rows (Mouse ID/Timepoints) for each drug regimen using pyplot.\n",
        "print(\"***********************************************************************************************\")\n",
        "# Count the number of rows for each drug regimen\n",
        "bar_data = cleaned_data[\"Drug Regimen\"].value_counts()\n",
        "\n",
        "# Create the bar chart using DataFrame.plot()\n",
        "bar_data.plot(kind=\"bar\", figsize=(8, 6), color=\"purple\")\n",
        "\n",
        "# Set the chart title and axis labels\n",
        "plt.title(\"Number of Mouse ID/Timepoints for Each Drug Regimen\")\n",
        "plt.xlabel(\"Drug Regimen\")\n",
        "plt.ylabel(\"Count\")\n",
        "\n",
        "# Show the bar chart\n",
        "plt.show()"
      ],
      "metadata": {
        "colab": {
          "base_uri": "https://localhost:8080/",
          "height": 643
        },
        "id": "XLaihZL1YKwh",
        "outputId": "08ebac0f-b46c-4c4f-a989-41a8671f3d7e"
      },
      "execution_count": 147,
      "outputs": [
        {
          "output_type": "stream",
          "name": "stdout",
          "text": [
            "***********************************************************************************************\n"
          ]
        },
        {
          "output_type": "display_data",
          "data": {
            "text/plain": [
              "<Figure size 800x600 with 1 Axes>"
            ],
            "image/png": "[encoded data removed]"
          },
          "metadata": {}
        }
      ]
    },
    {
      "cell_type": "code",
      "source": [
        "# Generate a bar plot showing the total number of rows (Mouse ID/Timepoints) for each drug regimen using pyplot.\n",
        "print(\"***********************************************************************************************\")\n",
        "# Count the number of rows for each drug regimen\n",
        "bar_data = cleaned_data[\"Drug Regimen\"].value_counts()\n",
        "\n",
        "# Create the bar chart using Matplotlib's pyplot\n",
        "plt.figure(figsize=(8, 6))\n",
        "plt.bar(bar_data.index, bar_data.values, color=\"orange\")\n",
        "\n",
        "# Set the chart title and axis labels\n",
        "plt.title(\"Number of Mouse ID/Timepoints for Each Drug Regimen\")\n",
        "plt.xlabel(\"Drug Regimen\")\n",
        "plt.ylabel(\"Count\")\n",
        "\n",
        "# Rotate x-axis labels if needed\n",
        "plt.xticks(rotation=45)\n",
        "\n",
        "# Show the bar chart\n",
        "plt.show()"
      ],
      "metadata": {
        "colab": {
          "base_uri": "https://localhost:8080/",
          "height": 631
        },
        "id": "TOQj0PedYKyg",
        "outputId": "b02ea75c-2fc8-4faf-9622-08713a315274"
      },
      "execution_count": 146,
      "outputs": [
        {
          "output_type": "stream",
          "name": "stdout",
          "text": [
            "***********************************************************************************************\n"
          ]
        },
        {
          "output_type": "display_data",
          "data": {
            "text/plain": [
              "<Figure size 800x600 with 1 Axes>"
            ],
            "image/png": "[encoded data removed]"
          },
          "metadata": {}
        }
      ]
    },
    {
      "cell_type": "code",
      "source": [
        "# Generate a pie plot showing the distribution of female versus male mice using Pandas\n",
        "print(\"***********************************************************************************************\")\n",
        "# Count the number of female and male mice\n",
        "pie_data = cleaned_data[\"Sex\"].value_counts()\n",
        "\n",
        "# Create the pie chart using DataFrame.plot()\n",
        "pie_data.plot(kind=\"pie\", figsize=(8, 6), autopct=\"%1.1f%%\", colors=[\"red\", \"yellow\"])\n",
        "\n",
        "# Set the chart title\n",
        "plt.title(\"Distribution of Female vs. Male Mice\")\n",
        "\n",
        "# Show the pie chart\n",
        "plt.show()"
      ],
      "metadata": {
        "colab": {
          "base_uri": "https://localhost:8080/"
        },
        "id": "4KtmumAqYK51",
        "outputId": "eb9f5005-7621-4d69-96da-9ee4a489d6e4"
      },
      "execution_count": 143,
      "outputs": [
        {
          "output_type": "stream",
          "name": "stdout",
          "text": [
            "***********************************************************************************************\n"
          ]
        }
      ]
    },
    {
      "cell_type": "code",
      "source": [
        "# Generate a pie plot showing the distribution of female versus male mice using pyplot\n",
        "print(\"************************************************************\")\n",
        "# Count the number of female and male mice\n",
        "pie_data = cleaned_data[\"Sex\"].value_counts()\n",
        "\n",
        "# Create the pie chart using Matplotlib's pyplot\n",
        "plt.figure(figsize=(8, 6))\n",
        "plt.pie(pie_data.values, labels=pie_data.index, autopct=\"%1.1f%%\", colors=[\"gray\", \"lightgreen\"])\n",
        "\n",
        "# Set the chart title\n",
        "plt.title(\"Distribution of Female vs. Male Mice\")\n",
        "\n",
        "# Show the pie chart\n",
        "plt.show()"
      ],
      "metadata": {
        "colab": {
          "base_uri": "https://localhost:8080/",
          "height": 539
        },
        "id": "nwBXnB-JYK79",
        "outputId": "2a860c24-dac8-4809-ae1b-35e0cd6bf963"
      },
      "execution_count": 145,
      "outputs": [
        {
          "output_type": "stream",
          "name": "stdout",
          "text": [
            "************************************************************\n"
          ]
        },
        {
          "output_type": "display_data",
          "data": {
            "text/plain": [
              "<Figure size 800x600 with 1 Axes>"
            ],
            "image/png": "[encoded data removed]"
          },
          "metadata": {}
        }
      ]
    },
    {
      "cell_type": "code",
      "source": [],
      "metadata": {
        "id": "dXbojpLQblO1"
      },
      "execution_count": 79,
      "outputs": []
    },
    {
      "cell_type": "markdown",
      "source": [
        "#**Quartiles, Outliers and Boxplots**"
      ],
      "metadata": {
        "id": "EBmKraZicD4l"
      }
    },
    {
      "cell_type": "code",
      "source": [
        "# Group the data by Mouse ID and find the maximum time point\n",
        "grouped_last_timepoint = cleaned_data.groupby(\"Mouse ID\")[\"Timepoint\"].max()\n",
        "\n",
        "# Merge the grouped DataFrame with the original cleaned DataFrame\n",
        "merged_last_timepoint = pd.merge(grouped_last_timepoint, cleaned_data, on=[\"Mouse ID\", \"Timepoint\"])"
      ],
      "metadata": {
        "id": "_kcHRtVublRV"
      },
      "execution_count": 80,
      "outputs": []
    },
    {
      "cell_type": "code",
      "source": [
        "# List of treatment names\n",
        "treatment_list = [\"Capomulin\", \"Ramicane\", \"Infubinol\", \"Ceftamin\"]\n",
        "\n",
        "# Empty list to hold tumor volume data\n",
        "tumor_volume_data = []"
      ],
      "metadata": {
        "id": "b26GrMMAblTx"
      },
      "execution_count": 81,
      "outputs": []
    },
    {
      "cell_type": "code",
      "source": [
        "for treatment in treatment_list:\n",
        "    # Locate the rows corresponding to the current treatment\n",
        "    treatment_rows = merged_last_timepoint[merged_last_timepoint[\"Drug Regimen\"] == treatment]\n",
        "\n",
        "    # Append the tumor volumes to the list\n",
        "    tumor_volume_data.append(treatment_rows[\"Tumor Volume (mm3)\"])"
      ],
      "metadata": {
        "id": "h2mtPxvOblWN"
      },
      "execution_count": 82,
      "outputs": []
    },
    {
      "cell_type": "code",
      "source": [
        "# Calculate the quartiles and IQR for each treatment\n",
        "for i in range(len(treatment_list)):\n",
        "    quartiles = tumor_volume_data[i].quantile([0.25, 0.5, 0.75])\n",
        "    lower_bound = quartiles[0.25] - 1.5 * (quartiles[0.75] - quartiles[0.25])\n",
        "    upper_bound = quartiles[0.75] + 1.5 * (quartiles[0.75] - quartiles[0.25])\n",
        "    outliers = tumor_volume_data[i][(tumor_volume_data[i] < lower_bound) | (tumor_volume_data[i] > upper_bound)]\n",
        "\n",
        "    print(f\"Potential outliers for {treatment_list[i]}: {outliers.tolist()}\")"
      ],
      "metadata": {
        "colab": {
          "base_uri": "https://localhost:8080/"
        },
        "id": "hDOtYGdtblYr",
        "outputId": "05d66f9f-a65e-4154-a612-0d408e4f0271"
      },
      "execution_count": 83,
      "outputs": [
        {
          "output_type": "stream",
          "name": "stdout",
          "text": [
            "Potential outliers for Capomulin: []\n",
            "Potential outliers for Ramicane: []\n",
            "Potential outliers for Infubinol: [36.3213458]\n",
            "Potential outliers for Ceftamin: []\n"
          ]
        }
      ]
    },
    {
      "cell_type": "code",
      "source": [
        "# Generate a box plot that shows the distrubution of the tumor volume for each treatment group.\n",
        "print(\"***********************************************************************************************\")\n",
        "# Create a figure and axis\n",
        "fig, ax = plt.subplots()\n",
        "\n",
        "# Generate the box plot\n",
        "box_plot = ax.boxplot(tumor_volume_data, sym=\"ro\")\n",
        "\n",
        "# Customize the box plot\n",
        "ax.set_xticklabels(treatment_list)\n",
        "ax.set_ylabel(\"Final Tumor Volume (mm3)\")\n",
        "ax.set_title(\"Distribution of Final Tumor Volume for Each Treatment\")\n",
        "\n",
        "# Highlight potential outliers\n",
        "for i in range(len(treatment_list)):\n",
        "    outliers = box_plot[\"fliers\"][i]\n",
        "    outliers.set(marker=\"o\", color=\"purple\", alpha=0.5)\n",
        "\n",
        "# Show the box plot\n",
        "plt.show()"
      ],
      "metadata": {
        "colab": {
          "base_uri": "https://localhost:8080/",
          "height": 470
        },
        "id": "Ok3-pPImYK90",
        "outputId": "5d9597c4-034e-47c8-afc4-54f7293479d3"
      },
      "execution_count": 141,
      "outputs": [
        {
          "output_type": "stream",
          "name": "stdout",
          "text": [
            "***********************************************************************************************\n"
          ]
        },
        {
          "output_type": "display_data",
          "data": {
            "text/plain": [
              "<Figure size 640x480 with 1 Axes>"
            ],
            "image/png": "[encoded data removed]"
          },
          "metadata": {}
        }
      ]
    },
    {
      "cell_type": "code",
      "source": [],
      "metadata": {
        "id": "8z0eCOyuYK_c"
      },
      "execution_count": 84,
      "outputs": []
    },
    {
      "cell_type": "markdown",
      "source": [
        "#**Line and Scatter Plots**"
      ],
      "metadata": {
        "id": "hd426ChQd-8l"
      }
    },
    {
      "cell_type": "code",
      "source": [
        "# Generate a line plot of tumor volume vs. time point for a single mouse treated with Capomulin\n",
        "from matplotlib import markers\n",
        "# Select a single mouse treated with Capomulin\n",
        "selected_mouse = cleaned_data[cleaned_data[\"Drug Regimen\"] == \"Capomulin\"][\"Mouse ID\"].sample(1).values[0]\n",
        "\n",
        "# Filter the data for the selected mouse\n",
        "selected_mouse_data = cleaned_data[cleaned_data[\"Mouse ID\"] == selected_mouse]\n",
        "\n",
        "# Create the line plot\n",
        "plt.plot(selected_mouse_data[\"Timepoint\"], selected_mouse_data[\"Tumor Volume (mm3)\"])\n",
        "\n",
        "# Set the chart title and axis labels\n",
        "plt.title(f\"capomulin treatment of mouse {selected_mouse}\")\n",
        "plt.xlabel(\"Time Point\")\n",
        "plt.ylabel(\"Tumor Volume (mm3)\")\n",
        "\n",
        "# Show the line plot\n",
        "plt.show()\n"
      ],
      "metadata": {
        "colab": {
          "base_uri": "https://localhost:8080/",
          "height": 472
        },
        "id": "zWeVMEP-eE00",
        "outputId": "3212fd09-1623-4272-b1c3-2fa1ca75c6f6"
      },
      "execution_count": 132,
      "outputs": [
        {
          "output_type": "display_data",
          "data": {
            "text/plain": [
              "<Figure size 640x480 with 1 Axes>"
            ],
            "image/png": "[encoded data removed]"
          },
          "metadata": {}
        }
      ]
    },
    {
      "cell_type": "code",
      "source": [
        "# Generate a scatter plot of mouse weight vs. the average observed tumor volume for the entire Capomulin regimen\n",
        "\n",
        "# Filter the data for the Capomulin treatment regimen\n",
        "capomulin_data = cleaned_data[cleaned_data[\"Drug Regimen\"] == \"Capomulin\"]\n",
        "\n",
        "# Calculate the average observed tumor volume for each mouse\n",
        "average_tumor_volume = capomulin_data.groupby(\"Mouse ID\")[\"Tumor Volume (mm3)\"].mean()\n",
        "\n",
        "# Get the corresponding mouse weight for each mouse\n",
        "mouse_weight = capomulin_data.groupby(\"Mouse ID\")[\"Weight (g)\"].first()\n",
        "\n",
        "# Create the scatter plot\n",
        "plt.scatter(mouse_weight, average_tumor_volume, marker=\"o\", color=\"blue\")\n",
        "\n",
        "# Set the chart title and axis labels\n",
        "plt.title(\"Mouse Weight vs. Average Observed Tumor Volume (Capomulin)\")\n",
        "plt.xlabel(\"Mouse Weight (g)\")\n",
        "plt.ylabel(\"Average Tumor Volume (mm3)\")\n",
        "\n",
        "# Show the scatter plot\n",
        "plt.show()\n"
      ],
      "metadata": {
        "colab": {
          "base_uri": "https://localhost:8080/",
          "height": 472
        },
        "id": "-2Ud1LWkfwPH",
        "outputId": "81ce7c49-97c3-4a1e-b6ad-318f6c89724d"
      },
      "execution_count": 130,
      "outputs": [
        {
          "output_type": "display_data",
          "data": {
            "text/plain": [
              "<Figure size 640x480 with 1 Axes>"
            ],
            "image/png": "[encoded data removed]"
          },
          "metadata": {}
        }
      ]
    },
    {
      "cell_type": "markdown",
      "source": [
        "#**Correlation and Regression**"
      ],
      "metadata": {
        "id": "dJnKAHRNgC9j"
      }
    },
    {
      "cell_type": "code",
      "source": [
        "import scipy.stats as stats\n",
        "import seaborn as sns\n",
        "\n",
        "# Calculate the correlation coefficient and a linear regression model\n",
        "# for mouse weight and average observed tumor volume for the entire Capomulin regime\n",
        "print(\"************************************************************************************\")\n",
        "# Filter the data for the Capomulin treatment regimen\n",
        "capomulin_data = cleaned_data[cleaned_data[\"Drug Regimen\"] == \"Capomulin\"]\n",
        "\n",
        "# Calculate the average observed tumor volume for each mouse\n",
        "average_tumor_volume = capomulin_data.groupby(\"Mouse ID\")[\"Tumor Volume (mm3)\"].mean()\n",
        "\n",
        "# Get the corresponding mouse weight for each mouse\n",
        "mouse_weight = capomulin_data.groupby(\"Mouse ID\")[\"Weight (g)\"].first()\n",
        "\n",
        "# Calculate the correlation coefficient\n",
        "correlation = stats.pearsonr(mouse_weight, average_tumor_volume)\n",
        "print(\"Correlation Coefficient:\", correlation[0])\n",
        "\n",
        "# Perform linear regression\n",
        "slope, intercept, rvalue, pvalue, stderr = stats.linregress(mouse_weight, average_tumor_volume)\n",
        "\n",
        "# Create the scatter plot\n",
        "plt.scatter(mouse_weight, average_tumor_volume, marker=\"o\", color=\"skyblue\")\n",
        "\n",
        "# Plot the linear regression line\n",
        "sns.regplot(x=mouse_weight, y=average_tumor_volume, scatter=False, color=\"red\", label=\"Linear Regression\")\n",
        "\n",
        "# Set the chart title and axis labels\n",
        "plt.title(\"Mouse Weight vs. Average Observed Tumor Volume (Capomulin)\")\n",
        "plt.xlabel(\"Mouse Weight (g)\")\n",
        "plt.ylabel(\"Average Tumor Volume (mm3)\")\n",
        "\n",
        "# Add the correlation coefficient to the plot\n",
        "plt.text(18, 38, f\"Correlation: {correlation[0]:.2f}\", fontsize=12)\n",
        "\n",
        "# Show the scatter plot with linear regression\n",
        "plt.legend()\n",
        "plt.show()\n"
      ],
      "metadata": {
        "colab": {
          "base_uri": "https://localhost:8080/",
          "height": 508
        },
        "id": "UkjTPlHwfwRb",
        "outputId": "ed83b40a-d9e6-41db-df57-44fffc91d2fe"
      },
      "execution_count": 139,
      "outputs": [
        {
          "output_type": "stream",
          "name": "stdout",
          "text": [
            "************************************************************************************\n",
            "Correlation Coefficient: 0.841936342469472\n"
          ]
        },
        {
          "output_type": "display_data",
          "data": {
            "text/plain": [
              "<Figure size 640x480 with 1 Axes>"
            ],
            "image/png": "[encoded data removed]"
          },
          "metadata": {}
        }
      ]
    },
    {
      "cell_type": "code",
      "source": [],
      "metadata": {
        "id": "tz_-RAT1fwTT"
      },
      "execution_count": 87,
      "outputs": []
    },
    {
      "cell_type": "code",
      "source": [],
      "metadata": {
        "id": "qXteArtNfwVA"
      },
      "execution_count": 87,
      "outputs": []
    },
    {
      "cell_type": "code",
      "source": [],
      "metadata": {
        "id": "WlCFu5RLfwXM"
      },
      "execution_count": 87,
      "outputs": []
    },
    {
      "cell_type": "code",
      "source": [],
      "metadata": {
        "id": "vFBDTkzzeE2y"
      },
      "execution_count": 87,
      "outputs": []
    }
  ]
}